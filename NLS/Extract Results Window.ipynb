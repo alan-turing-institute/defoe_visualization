{
 "cells": [
  {
   "cell_type": "code",
   "execution_count": 5,
   "metadata": {},
   "outputs": [],
   "source": [
    "import os\n",
    "import yaml\n",
    "import sys"
   ]
  },
  {
   "cell_type": "code",
   "execution_count": 6,
   "metadata": {},
   "outputs": [],
   "source": [
    "def write_row(date, title, edition, archive, filename, search_term, sequence):\n",
    "    row = ''\n",
    "    row += str(date)\n",
    "    row += ',\"{}\"'.format(title)\n",
    "    row += ',\"{}\"'.format(edition)\n",
    "    row += ',\"{}\"'.format(archive)\n",
    "    row += ',{}'.format(filename)\n",
    "    row += ',\"{}\"'.format(search_term)\n",
    "    row += ',\"{}\"\\n'.format(sequence)\n",
    "    return row"
   ]
  },
  {
   "cell_type": "code",
   "execution_count": 7,
   "metadata": {},
   "outputs": [],
   "source": [
    "with open('./results_NLS/results_window_concordance_man', 'r') as in_file:\n",
    "    doc = yaml.load(in_file)"
   ]
  },
  {
   "cell_type": "code",
   "execution_count": 8,
   "metadata": {},
   "outputs": [],
   "source": [
    "outfile = './results_NLS/results_window_concordance_man.csv'\n",
    "\n",
    "with open(outfile, 'w') as outf:\n",
    "    outf.write('date, title, edition, archive, filename, search term, sequence\\n')\n",
    "    for date in doc:\n",
    "        for hit in doc[date]:\n",
    "            title=hit[0]\n",
    "            edition= hit[1]\n",
    "            archive= hit[2]\n",
    "            filename = hit[3]\n",
    "            search_term = hit[4]\n",
    "            sequence = hit[5]\n",
    "            row = write_row(date, title, edition, archive, filename, search_term, sequence)\n",
    "            outf.write(row)\n",
    "            \n",
    "            "
   ]
  },
  {
   "cell_type": "code",
   "execution_count": null,
   "metadata": {},
   "outputs": [],
   "source": []
  }
 ],
 "metadata": {
  "kernelspec": {
   "display_name": "Python 3",
   "language": "python",
   "name": "python3"
  },
  "language_info": {
   "codemirror_mode": {
    "name": "ipython",
    "version": 3
   },
   "file_extension": ".py",
   "mimetype": "text/x-python",
   "name": "python",
   "nbconvert_exporter": "python",
   "pygments_lexer": "ipython3",
   "version": "3.5.5"
  }
 },
 "nbformat": 4,
 "nbformat_minor": 2
}
