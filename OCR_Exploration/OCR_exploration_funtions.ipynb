{
 "cells": [
  {
   "cell_type": "code",
   "execution_count": 24,
   "metadata": {},
   "outputs": [],
   "source": [
    "import yaml\n",
    "import matplotlib.pyplot as plt\n",
    "plt.style.use('seaborn-whitegrid')\n",
    "import numpy as np"
   ]
  },
  {
   "cell_type": "code",
   "execution_count": 25,
   "metadata": {},
   "outputs": [],
   "source": [
    "def read_query_results(filename):\n",
    "    with open(filename, 'r') as f:\n",
    "        query_results = yaml.load(f, Loader=yaml.FullLoader)\n",
    "    return query_results"
   ]
  },
  {
   "cell_type": "code",
   "execution_count": 34,
   "metadata": {},
   "outputs": [],
   "source": [
    "def extract_pq_wd(query_results): \n",
    "    page_quality={}\n",
    "    words_in_dictionary={}\n",
    "    num_articles=0\n",
    "    for key,values in query_results.items():\n",
    "        if key not in page_quality:\n",
    "            page_quality[key]=[]\n",
    "            words_in_dictionary[key]=[]\n",
    "        for v in values:\n",
    "            if v[0]!=None: \n",
    "                page_quality[key].append(v[0])\n",
    "                rescaling=str(float(v[1])/100)\n",
    "                words_in_dictionary[key].append(rescaling)\n",
    "                num_articles+=1\n",
    "    return page_quality, words_in_dictionary, num_articles"
   ]
  },
  {
   "cell_type": "code",
   "execution_count": 35,
   "metadata": {},
   "outputs": [],
   "source": [
    "def clean_pq_wd_results(page_quality, words_in_dictionary):\n",
    "    cleaned_results = {year: list(filter(lambda x: x[0] is not None, zip(pq, words_in_dictionary[year]))) for year, pq in page_quality.items()}\n",
    "    cleaned_page_quality = {year: np.array([float(x[0]) for x in cr]) for year, cr in cleaned_results.items()}\n",
    "    cleaned_words_in_dict = {year: np.array([float(x[1]) for x in cr]) for year, cr in cleaned_results.items()}\n",
    "    return cleaned_page_quality, cleaned_words_in_dict"
   ]
  },
  {
   "cell_type": "code",
   "execution_count": 36,
   "metadata": {},
   "outputs": [],
   "source": [
    "def plot_avg_clean(cleaned_page_quality, cleaned_words_in_dict):\n",
    "    avg_page_quality = [np.average(cleaned_page_quality[k]) for k in sorted(cleaned_page_quality)]\n",
    "    avg_words_in_dict = [np.average(cleaned_words_in_dict[k]) for k in sorted(cleaned_words_in_dict)]\n",
    "    plt.plot(sorted(cleaned_page_quality),avg_page_quality, 'ro', \n",
    "         sorted(cleaned_words_in_dict),avg_words_in_dict, 'g*')\n",
    "    plt.show()\n",
    "    return avg_page_quality, avg_words_in_dict"
   ]
  },
  {
   "cell_type": "code",
   "execution_count": 37,
   "metadata": {},
   "outputs": [],
   "source": [
    "def plot_sorted_avg_clean(cleaned_page_quality, cleaned_words_in_dict, avg_page_quality, avg_words_in_dict):\n",
    "    std_page_quality = [np.std(cleaned_page_quality[k]) for k in sorted(cleaned_page_quality)]\n",
    "    std_words_in_dict = [np.std(cleaned_words_in_dict[k]) for k in sorted(cleaned_words_in_dict)]\n",
    "    plt.errorbar(cleaned_page_quality.keys(),\n",
    "             avg_page_quality, \n",
    "             std_page_quality, \n",
    "             label='page quality',\n",
    "             linestyle='None', marker='o', capsize=3)\n",
    "    plt.errorbar(cleaned_words_in_dict.keys(),\n",
    "             avg_words_in_dict, \n",
    "             std_words_in_dict, \n",
    "             label='words in dictionary',\n",
    "             linestyle='None', marker='*', capsize=3)\n",
    "    plt.legend(frameon=True, loc=3)\n",
    "    plt.show()"
   ]
  },
  {
   "cell_type": "code",
   "execution_count": 38,
   "metadata": {},
   "outputs": [],
   "source": [
    "def exploring_ocr(filename):\n",
    "    query_results=read_query_results(filename) \n",
    "    page_quality,words_in_dicitonary,num_articles=extract_pq_wd(query_results)\n",
    "    print(\"Number of articles %s\" %num_articles)\n",
    "    print(\"Page quality of year %s is %s\" %(list(page_quality.keys())[0], page_quality[list(page_quality.keys())[0]]))\n",
    "    print(\"Normalised words found in a dict for year %s is %s\" %(list(words_in_dicitonary.keys())[0], words_in_dicitonary[list(page_quality.keys())[0]]))\n",
    "    #plt.plot(page_quality[1757][0:5],'g*', words_in_dictionary[1757][0:5],'ro') \n",
    "    #plt.show()\n",
    "    cleaned_page_quality,cleaned_words_in_dict=clean_pq_wd_results(page_quality,words_in_dicitonary)\n",
    "    avg_page_quality, avg_words_in_dict= plot_avg_clean(cleaned_page_quality, cleaned_words_in_dict)\n",
    "    plot_sorted_avg_clean(cleaned_page_quality, cleaned_words_in_dict, avg_page_quality, avg_words_in_dict)\n",
    "    "
   ]
  },
  {
   "cell_type": "markdown",
   "metadata": {},
   "source": [
    "### Exploring OCR quality\n",
    "\n",
    "We have 3 results from the defoe query \"ocr_quality_by_year\": \n",
    "\n",
    "nohup spark-submit --py-files defoe.zip defoe/run_query.py findmypastdorset_data.txt fmp defoe.alto.queries.ocr_quality_by_year -r ocr_results_fmp-dorset-classify-mets18-only -n 324\n",
    "\n",
    "Using 3 subsample datasets which follows the METS18 schema --> https://github.com/alan-turing-institute/Living-with-Machines-code/wiki/FMP-ALTO-METS-1.8-anatomy ):\n",
    "    * Small subsample of Lancanshire MET18\n",
    "    * Small subsample of Dorsert MET18 --> Articles that from the newspaper with the ID: 0000408\n",
    "    * Subsample of Dorset METS18\n",
    "    \n",
    "The results of these queries were gathered in 3 results files:\n",
    "    * ocr_results_lancanshire_subsample\n",
    "    * ocr_results_dorset_subsample\n",
    "    * ocr_results_fmp-dorset-classify-mets18-only\n",
    "    \n",
    "We have created several functions to allows us to explore these results. \n",
    "\n"
   ]
  },
  {
   "cell_type": "code",
   "execution_count": 42,
   "metadata": {},
   "outputs": [
    {
     "name": "stdout",
     "output_type": "stream",
     "text": [
      "Number of articles 4551\n",
      "Page quality of year 1757 is ['0.751', '0.748', '0.692', '0.743', '0.785', '0.771', '0.723', '0.732', '0.758', '0.768', '0.711', '0.740', '0.785', '0.729', '0.741', '0.689', '0.793', '0.775', '0.741', '0.662', '0.777', '0.784', '0.738', '0.708', '0.747', '0.747', '0.706', '0.711', '0.782', '0.737', '0.728', '0.771', '0.749', '0.743', '0.683', '0.710', '0.794', '0.751', '0.720', '0.769', '0.740', '0.760', '0.773', '0.716', '0.751', '0.745', '0.711', '0.754', '0.705', '0.750', '0.686', '0.775', '0.728', '0.766', '0.734', '0.713', '0.771', '0.744', '0.727', '0.694', '0.793', '0.748', '0.720', '0.753', '0.760', '0.779', '0.746', '0.713', '0.808', '0.786', '0.745', '0.753', '0.778', '0.769', '0.737', '0.735', '0.757', '0.774', '0.721', '0.736', '0.714', '0.761', '0.788', '0.768', '0.746', '0.723', '0.789', '0.762', '0.735', '0.745', '0.751', '0.741', '0.699', '0.747', '0.782', '0.755', '0.720', '0.749']\n",
      "Normalised words found in a dict for year 1757 is ['0.68', '0.66', '0.62', '0.71', '0.73', '0.72', '0.66', '0.69', '0.72', '0.73', '0.65', '0.68', '0.74', '0.71', '0.65', '0.68', '0.77', '0.72', '0.68', '0.67', '0.72', '0.72', '0.66', '0.7', '0.69', '0.71', '0.64', '0.71', '0.73', '0.68', '0.67', '0.7', '0.71', '0.68', '0.64', '0.7', '0.72', '0.66', '0.64', '0.7', '0.71', '0.72', '0.66', '0.67', '0.71', '0.69', '0.67', '0.73', '0.68', '0.69', '0.63', '0.73', '0.71', '0.73', '0.66', '0.65', '0.71', '0.71', '0.65', '0.7', '0.73', '0.71', '0.65', '0.71', '0.74', '0.73', '0.66', '0.7', '0.76', '0.74', '0.66', '0.69', '0.72', '0.69', '0.66', '0.7', '0.72', '0.72', '0.65', '0.69', '0.68', '0.72', '0.73', '0.71', '0.66', '0.71', '0.73', '0.69', '0.64', '0.71', '0.72', '0.73', '0.64', '0.67', '0.71', '0.68', '0.67', '0.7']\n"
     ]
    },
    {
     "data": {
      "image/png": "[encoded data removed]",
      "text/plain": [
       "<Figure size 432x288 with 1 Axes>"
      ]
     },
     "metadata": {},
     "output_type": "display_data"
    },
    {
     "data": {
      "image/png": "[encoded data removed]",
      "text/plain": [
       "<Figure size 432x288 with 1 Axes>"
      ]
     },
     "metadata": {},
     "output_type": "display_data"
    }
   ],
   "source": [
    "#### small subsample of Lancanshire sample\n",
    "filename=\"./results/ocr_results_lancanshire_subsample\"\n",
    "\n",
    "##### dorset results exploring 0000408 dataset\n",
    "#filename=\"./results/ocr_results_dorset_subsample\"\n",
    "\n",
    "### dorset results using ALTO and METS18 format\n",
    "#filename=\"./results/ocr_results_fmp-dorset-classify-mets18-only\"\n",
    "\n",
    "exploring_ocr(filename)\n"
   ]
  },
  {
   "cell_type": "code",
   "execution_count": null,
   "metadata": {},
   "outputs": [],
   "source": []
  }
 ],
 "metadata": {
  "kernelspec": {
   "display_name": "Python 3",
   "language": "python",
   "name": "python3"
  },
  "language_info": {
   "codemirror_mode": {
    "name": "ipython",
    "version": 3
   },
   "file_extension": ".py",
   "mimetype": "text/x-python",
   "name": "python",
   "nbconvert_exporter": "python",
   "pygments_lexer": "ipython3",
   "version": "3.7.2"
  }
 },
 "nbformat": 4,
 "nbformat_minor": 2
}
