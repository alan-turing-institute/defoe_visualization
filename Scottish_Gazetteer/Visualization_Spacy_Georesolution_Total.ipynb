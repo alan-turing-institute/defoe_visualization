{
 "cells": [
  {
   "cell_type": "markdown",
   "metadata": {},
   "source": [
    "## Visualizing  Spacy + Georesolver  - Total"
   ]
  },
  {
   "cell_type": "markdown",
   "metadata": {},
   "source": [
    "In this case, we have used the [SpaCy en_core_web_lg](https://spacy.io/models/en#en_core_web_lg) for finding the Name Entities of all the books of a particular edition,  and select the ones regarding with places (GPE and LOC entities). Later, once we have the locations entities, we use the [georesolver]() of the  [Edinburgh geoparser](https://programminghistorian.org/en/lessons/geoparsing-text-with-edinburgh#patch-fix) to resolve these locations.\n",
    "                       \n",
    "The query for running that we have used is the following: \n",
    "\n",
    "`sspark-submit --py-files defoe.zip defoe/run_queries.py nls_gaz.txt  nls -l query_distributed_topics.txt -n 16 `\n",
    "\n",
    "\n",
    "And the queries/lang_model.yml specifies the spaCy language model to use:\n",
    "`lang_model: en_core_web_lg`"
   ]
  },
  {
   "cell_type": "markdown",
   "metadata": {},
   "source": [
    "### Loading the necessary libraries"
   ]
  },
  {
   "cell_type": "code",
   "execution_count": 1,
   "metadata": {},
   "outputs": [],
   "source": [
    "import yaml\n",
    "from IPython.core.display import display, HTML\n",
    "import pandas as pd \n",
    "import matplotlib.pyplot as plt\n",
    "import matplotlib as mpl\n",
    "import numpy as np"
   ]
  },
  {
   "cell_type": "markdown",
   "metadata": {},
   "source": [
    "### Functions"
   ]
  },
  {
   "cell_type": "code",
   "execution_count": 2,
   "metadata": {},
   "outputs": [],
   "source": [
    "def read_query_results(filename):\n",
    "    with open('./results_Gazetteer/results_paper/'+filename, 'r') as f:\n",
    "        query_results = yaml.load(f)\n",
    "    return query_results\n"
   ]
  },
  {
   "cell_type": "code",
   "execution_count": 3,
   "metadata": {},
   "outputs": [],
   "source": [
    "def geresolution_dataframe(result):\n",
    "    dfs=[]\n",
    "    data=[]\n",
    "    c_locs=[]    \n",
    "    for i in result.keys():\n",
    "        print(\"year %s\" %i)\n",
    "        t_ind = 0\n",
    "        e_ind = 0\n",
    "        year = i\n",
    "        for k in result[i]:\n",
    "            locs= k[\"georesolution_page\"]\n",
    "            page = k[\"text_unit id\"]\n",
    "            if locs != {}:\n",
    "                data=[]\n",
    "                l_ind = 0\n",
    "                for t in locs:\n",
    "                    if type(locs[t]) == type([]) :\n",
    "                        c_locs=locs[t].copy()\n",
    "                        c_locs.append(t.split(\"-\")[0])\n",
    "                        c_locs.append(page)\n",
    "                        c_locs.append(year)\n",
    "                        data.append(c_locs)\n",
    "                        l_ind = l_ind + 1   \n",
    "                e_ind = t_ind + l_ind \n",
    "                if data:\n",
    "                    df_page = pd.DataFrame(data, columns = ['Latitude', 'Longitude', 'Place', 'Page', 'Year'], \n",
    "                                      index=list(range(t_ind, e_ind)))\n",
    "                    dfs.append(df_page)\n",
    "                    t_ind=e_ind\n",
    "    df_total = pd.concat(dfs)\n",
    "    return df_total"
   ]
  },
  {
   "cell_type": "code",
   "execution_count": 4,
   "metadata": {},
   "outputs": [],
   "source": [
    "def get_place(df, lat, long):\n",
    "    df_new=df.loc[(df['Latitude'] == lat) & (df['Longitude'] == long)]['Place']\n",
    "    return df_new.count(), df_new.iloc[0]"
   ]
  },
  {
   "cell_type": "code",
   "execution_count": 5,
   "metadata": {},
   "outputs": [],
   "source": [
    "def label_freq_places(df_total, df_max_geolocations, filter_list):\n",
    "    place_label=[]\n",
    "    place_freq = []\n",
    "    i_limit = 15\n",
    "    i =0\n",
    "    k =0 \n",
    "    while k < i_limit:\n",
    "        place_count, place_name = get_place(df_total, df_max_geolocations.iloc[i]['Latitude'], df_max_geolocations.iloc[i]['Longitude'])\n",
    "        if place_name not in filter_list:\n",
    "            print(i, place_count,place_name)\n",
    "            if place_name not in place_label:\n",
    "                k = k + 1\n",
    "            place_label.append(place_name)\n",
    "            place_freq.append(place_count)\n",
    "         \n",
    "        i = i + 1\n",
    "    return place_label, place_freq"
   ]
  },
  {
   "cell_type": "code",
   "execution_count": 6,
   "metadata": {},
   "outputs": [],
   "source": [
    "def plot_bar_places(df_group_places, plot_type='resolved'):\n",
    "    # this is for plotting purpose\n",
    "    index = np.arange(len(df_group_places['Place']))\n",
    "    plt.xlabel('Places')\n",
    "    plt.ylabel('Frequency of Places')\n",
    "    plt.xticks(index, df_group_places['Place'], rotation=80, fontsize=7)\n",
    "\n",
    "    if plot_type == \"resolved\":\n",
    "        plt.bar(index, df_group_places['count'], color='green')\n",
    "        plt.title('15 Places most mentioned using SpaCy and the Georesolver across all Scottitsh Gazetteer')\n",
    "    else:\n",
    "        plt.bar(index, df_group_places['count'], color='yellowgreen')\n",
    "        plt.title('15 Places most mentioned but not resolved using SpaCy and the Georesolver across all Scottitsh Gazetteer')"
   ]
  },
  {
   "cell_type": "markdown",
   "metadata": {},
   "source": [
    "### Information about the defoe geoparser query\n",
    "\n",
    "This query does the following tasks:\n",
    "\n",
    "- Ingests all the pages from each directory listed in nls_gaz.txt, which each corresponds to a book of the \"Scottish Gazzeters\"\n",
    "- Cleans the text applied two fixes: Long-s and hyphen words\n",
    "- Identifies *entities* using the original SpaCy en_core_web_lg model.\n",
    "- From the previous entities, just selects the one about *location* and creates an xml (in memory) per page with these \"location\" entities. \n",
    "- Applies the georesolve of the Edinburgh geoparser to each xml and gets lat and long. **Important: Everything is in memory, we do not create XML files in those steps**\n",
    "- Group the results by year, and also gets some informative metadata\n",
    "\n",
    "\n",
    "As a result we get a file per book with an entry per page with the following information:\n",
    "\n",
    "    * edition: Edition of the gazetteer\n",
    "    * georesolution_page: Page's geolocations after applying the georesolver\n",
    "    * page_filename: Page's filename (page's relative path)\n",
    "    * text_unit id: The number of this page (e.g. Page 1)\n",
    "    * lang_model : The language model applied (en_core_web_lg)\n",
    "    * year: Publication year \n",
    "\n",
    "`Example:\n",
    "     \n",
    "    - edition: '1828'\n",
    "      georesolution_page:\n",
    "       Aberdeen-rb19:\n",
    "        - '57.1333333'\n",
    "        - '-2.1'\n",
    "       Edinburgh-rb7:\n",
    "        - '55.9497284685701'\n",
    "        - '-3.19333076477051'\n",
    "    \n",
    "      lang_model: en_core_web_lg\n",
    "      page_filename: alto/97351031.34.xml\n",
    "      text_unit id: Page27\n",
    "      title: Descriptive account of the principal towns in Scotland to accompany Wood's town atlas`\n"
   ]
  },
  {
   "cell_type": "markdown",
   "metadata": {},
   "source": [
    "### Reading the file and creating the first dataframe"
   ]
  },
  {
   "cell_type": "code",
   "execution_count": 7,
   "metadata": {},
   "outputs": [],
   "source": [
    "results=read_query_results('georesolution_en_core_web_lg_total')"
   ]
  },
  {
   "cell_type": "code",
   "execution_count": 8,
   "metadata": {},
   "outputs": [
    {
     "name": "stdout",
     "output_type": "stream",
     "text": [
      "year 1803\n",
      "year 1806\n",
      "year 1846\n",
      "year 1828\n",
      "year 1842\n",
      "year 1838\n",
      "year 1882\n",
      "year 1868\n",
      "year 1825\n",
      "year 1901\n",
      "year 1848\n",
      "year 1883\n"
     ]
    }
   ],
   "source": [
    "df_total= geresolution_dataframe(results)"
   ]
  },
  {
   "cell_type": "code",
   "execution_count": 9,
   "metadata": {},
   "outputs": [
    {
     "data": {
      "text/html": [
       "<div>\n",
       "<style scoped>\n",
       "    .dataframe tbody tr th:only-of-type {\n",
       "        vertical-align: middle;\n",
       "    }\n",
       "\n",
       "    .dataframe tbody tr th {\n",
       "        vertical-align: top;\n",
       "    }\n",
       "\n",
       "    .dataframe thead th {\n",
       "        text-align: right;\n",
       "    }\n",
       "</style>\n",
       "<table border=\"1\" class=\"dataframe\">\n",
       "  <thead>\n",
       "    <tr style=\"text-align: right;\">\n",
       "      <th></th>\n",
       "      <th>Latitude</th>\n",
       "      <th>Longitude</th>\n",
       "      <th>Place</th>\n",
       "      <th>Page</th>\n",
       "      <th>Year</th>\n",
       "    </tr>\n",
       "  </thead>\n",
       "  <tbody>\n",
       "    <tr>\n",
       "      <th>0</th>\n",
       "      <td>39.9153695</td>\n",
       "      <td>-77.5366551</td>\n",
       "      <td>Lakes</td>\n",
       "      <td>Page9</td>\n",
       "      <td>1803</td>\n",
       "    </tr>\n",
       "    <tr>\n",
       "      <th>1</th>\n",
       "      <td>55.95</td>\n",
       "      <td>-3.3725</td>\n",
       "      <td>EDINBURGH</td>\n",
       "      <td>Page9</td>\n",
       "      <td>1803</td>\n",
       "    </tr>\n",
       "    <tr>\n",
       "      <th>2</th>\n",
       "      <td>42.2630415</td>\n",
       "      <td>-92.69269869999999</td>\n",
       "      <td>Counties</td>\n",
       "      <td>Page9</td>\n",
       "      <td>1803</td>\n",
       "    </tr>\n",
       "    <tr>\n",
       "      <th>3</th>\n",
       "      <td>51.64875</td>\n",
       "      <td>-0.0974</td>\n",
       "      <td>LONDON</td>\n",
       "      <td>Page9</td>\n",
       "      <td>1803</td>\n",
       "    </tr>\n",
       "    <tr>\n",
       "      <th>4</th>\n",
       "      <td>41.5581</td>\n",
       "      <td>-90.5198</td>\n",
       "      <td>Cities</td>\n",
       "      <td>Page9</td>\n",
       "      <td>1803</td>\n",
       "    </tr>\n",
       "  </tbody>\n",
       "</table>\n",
       "</div>"
      ],
      "text/plain": [
       "     Latitude           Longitude      Place   Page  Year\n",
       "0  39.9153695         -77.5366551      Lakes  Page9  1803\n",
       "1       55.95             -3.3725  EDINBURGH  Page9  1803\n",
       "2  42.2630415  -92.69269869999999   Counties  Page9  1803\n",
       "3    51.64875             -0.0974     LONDON  Page9  1803\n",
       "4     41.5581            -90.5198     Cities  Page9  1803"
      ]
     },
     "execution_count": 9,
     "metadata": {},
     "output_type": "execute_result"
    }
   ],
   "source": [
    "df_total.head()"
   ]
  },
  {
   "cell_type": "markdown",
   "metadata": {},
   "source": [
    "### Generic Explorations "
   ]
  },
  {
   "cell_type": "markdown",
   "metadata": {},
   "source": [
    "**Important: Number of Places that has been identified!**"
   ]
  },
  {
   "cell_type": "code",
   "execution_count": 10,
   "metadata": {},
   "outputs": [
    {
     "data": {
      "text/plain": [
       "Place    170549\n",
       "dtype: int64"
      ]
     },
     "execution_count": 10,
     "metadata": {},
     "output_type": "execute_result"
    }
   ],
   "source": [
    "df_total[[\"Place\"]].count()"
   ]
  },
  {
   "cell_type": "markdown",
   "metadata": {},
   "source": [
    "**Important: Going to remove City of | Contry of | County of  in the strings of Places**"
   ]
  },
  {
   "cell_type": "code",
   "execution_count": 11,
   "metadata": {},
   "outputs": [],
   "source": [
    "df_total['Place'] = df_total['Place'].str.replace(r'City of ', '')\n",
    "df_total['Place'] = df_total['Place'].str.replace(r'city of ', '')\n",
    "df_total['Place'] = df_total['Place'].str.replace(r'Country of ', '')\n",
    "df_total['Place'] = df_total['Place'].str.replace(r'country of ', '')\n",
    "df_total['Place'] = df_total['Place'].str.replace(r'County of ', '')\n",
    "df_total['Place'] = df_total['Place'].str.replace(r'county of ', '')"
   ]
  },
  {
   "cell_type": "markdown",
   "metadata": {},
   "source": [
    "**Important: Number of Places that has been identified but not resolved!**"
   ]
  },
  {
   "cell_type": "code",
   "execution_count": 12,
   "metadata": {},
   "outputs": [
    {
     "data": {
      "text/plain": [
       "Latitude     0\n",
       "Longitude    0\n",
       "Place        0\n",
       "Page         0\n",
       "Year         0\n",
       "dtype: int64"
      ]
     },
     "execution_count": 12,
     "metadata": {},
     "output_type": "execute_result"
    }
   ],
   "source": [
    "df_not_resolved=df_total.loc[df_total['Latitude'] == '']\n",
    "df_not_resolved.count()"
   ]
  },
  {
   "cell_type": "markdown",
   "metadata": {},
   "source": [
    "**Important: Number of Places that has been identified AND  resolved!**"
   ]
  },
  {
   "cell_type": "code",
   "execution_count": 13,
   "metadata": {},
   "outputs": [
    {
     "data": {
      "text/plain": [
       "Latitude     170549\n",
       "Longitude    170549\n",
       "Place        170549\n",
       "Page         170549\n",
       "Year         170549\n",
       "dtype: int64"
      ]
     },
     "execution_count": 13,
     "metadata": {},
     "output_type": "execute_result"
    }
   ],
   "source": [
    "df_total.loc[df_total['Latitude'] != ''].count()"
   ]
  },
  {
   "cell_type": "markdown",
   "metadata": {},
   "source": [
    "## Exploring the places resolved (with latitude and longitude)"
   ]
  },
  {
   "cell_type": "markdown",
   "metadata": {},
   "source": [
    "**Important: New dataframe- df_resolved- with just the rows has been resolved!!**"
   ]
  },
  {
   "cell_type": "code",
   "execution_count": 14,
   "metadata": {},
   "outputs": [],
   "source": [
    "df_resolved = df_total[df_total['Latitude'] != '']"
   ]
  },
  {
   "cell_type": "code",
   "execution_count": 15,
   "metadata": {},
   "outputs": [
    {
     "data": {
      "text/plain": [
       "Latitude     170549\n",
       "Longitude    170549\n",
       "Place        170549\n",
       "Page         170549\n",
       "Year         170549\n",
       "dtype: int64"
      ]
     },
     "execution_count": 15,
     "metadata": {},
     "output_type": "execute_result"
    }
   ],
   "source": [
    "df_resolved.count()"
   ]
  },
  {
   "cell_type": "markdown",
   "metadata": {},
   "source": [
    "Places names - forcing all to lower case, and later capitalize them"
   ]
  },
  {
   "cell_type": "code",
   "execution_count": 16,
   "metadata": {},
   "outputs": [],
   "source": [
    "df2 = df_resolved.copy()\n",
    "df2['Place']=df_resolved['Place'].apply(str.lower)"
   ]
  },
  {
   "cell_type": "code",
   "execution_count": 17,
   "metadata": {},
   "outputs": [
    {
     "data": {
      "text/html": [
       "<div>\n",
       "<style scoped>\n",
       "    .dataframe tbody tr th:only-of-type {\n",
       "        vertical-align: middle;\n",
       "    }\n",
       "\n",
       "    .dataframe tbody tr th {\n",
       "        vertical-align: top;\n",
       "    }\n",
       "\n",
       "    .dataframe thead th {\n",
       "        text-align: right;\n",
       "    }\n",
       "</style>\n",
       "<table border=\"1\" class=\"dataframe\">\n",
       "  <thead>\n",
       "    <tr style=\"text-align: right;\">\n",
       "      <th></th>\n",
       "      <th>Latitude</th>\n",
       "      <th>Longitude</th>\n",
       "      <th>Place</th>\n",
       "      <th>Page</th>\n",
       "      <th>Year</th>\n",
       "    </tr>\n",
       "  </thead>\n",
       "  <tbody>\n",
       "    <tr>\n",
       "      <th>0</th>\n",
       "      <td>39.9153695</td>\n",
       "      <td>-77.5366551</td>\n",
       "      <td>Lakes</td>\n",
       "      <td>Page9</td>\n",
       "      <td>1803</td>\n",
       "    </tr>\n",
       "    <tr>\n",
       "      <th>1</th>\n",
       "      <td>55.95</td>\n",
       "      <td>-3.3725</td>\n",
       "      <td>Edinburgh</td>\n",
       "      <td>Page9</td>\n",
       "      <td>1803</td>\n",
       "    </tr>\n",
       "    <tr>\n",
       "      <th>2</th>\n",
       "      <td>42.2630415</td>\n",
       "      <td>-92.69269869999999</td>\n",
       "      <td>Counties</td>\n",
       "      <td>Page9</td>\n",
       "      <td>1803</td>\n",
       "    </tr>\n",
       "    <tr>\n",
       "      <th>3</th>\n",
       "      <td>51.64875</td>\n",
       "      <td>-0.0974</td>\n",
       "      <td>London</td>\n",
       "      <td>Page9</td>\n",
       "      <td>1803</td>\n",
       "    </tr>\n",
       "    <tr>\n",
       "      <th>4</th>\n",
       "      <td>41.5581</td>\n",
       "      <td>-90.5198</td>\n",
       "      <td>Cities</td>\n",
       "      <td>Page9</td>\n",
       "      <td>1803</td>\n",
       "    </tr>\n",
       "    <tr>\n",
       "      <th>5</th>\n",
       "      <td>56.39153</td>\n",
       "      <td>-3.43951</td>\n",
       "      <td>Scotland</td>\n",
       "      <td>Page9</td>\n",
       "      <td>1803</td>\n",
       "    </tr>\n",
       "    <tr>\n",
       "      <th>6</th>\n",
       "      <td>55.8666667</td>\n",
       "      <td>-4.25</td>\n",
       "      <td>Glasgow</td>\n",
       "      <td>Page9</td>\n",
       "      <td>1803</td>\n",
       "    </tr>\n",
       "    <tr>\n",
       "      <th>7</th>\n",
       "      <td>56.4</td>\n",
       "      <td>-3.4333333</td>\n",
       "      <td>Perth</td>\n",
       "      <td>Page9</td>\n",
       "      <td>1803</td>\n",
       "    </tr>\n",
       "    <tr>\n",
       "      <th>8</th>\n",
       "      <td>57.1333333</td>\n",
       "      <td>-2.1</td>\n",
       "      <td>Aberdeen</td>\n",
       "      <td>Page9</td>\n",
       "      <td>1803</td>\n",
       "    </tr>\n",
       "    <tr>\n",
       "      <th>9</th>\n",
       "      <td>60.293386</td>\n",
       "      <td>5.218142</td>\n",
       "      <td>Bergen</td>\n",
       "      <td>Page11</td>\n",
       "      <td>1803</td>\n",
       "    </tr>\n",
       "    <tr>\n",
       "      <th>10</th>\n",
       "      <td>54</td>\n",
       "      <td>-4</td>\n",
       "      <td>Great britain</td>\n",
       "      <td>Page11</td>\n",
       "      <td>1803</td>\n",
       "    </tr>\n",
       "    <tr>\n",
       "      <th>11</th>\n",
       "      <td>40.6</td>\n",
       "      <td>-73.89944439999999</td>\n",
       "      <td>Coast</td>\n",
       "      <td>Page11</td>\n",
       "      <td>1803</td>\n",
       "    </tr>\n",
       "    <tr>\n",
       "      <th>12</th>\n",
       "      <td>38.8873341</td>\n",
       "      <td>-77.05553279999999</td>\n",
       "      <td>Scotland</td>\n",
       "      <td>Page11</td>\n",
       "      <td>1803</td>\n",
       "    </tr>\n",
       "    <tr>\n",
       "      <th>13</th>\n",
       "      <td>40.9477778</td>\n",
       "      <td>-72.42277780000001</td>\n",
       "      <td>North sea</td>\n",
       "      <td>Page11</td>\n",
       "      <td>1803</td>\n",
       "    </tr>\n",
       "    <tr>\n",
       "      <th>14</th>\n",
       "      <td>34.4411</td>\n",
       "      <td>-119.8199</td>\n",
       "      <td>Western coast</td>\n",
       "      <td>Page11</td>\n",
       "      <td>1803</td>\n",
       "    </tr>\n",
       "  </tbody>\n",
       "</table>\n",
       "</div>"
      ],
      "text/plain": [
       "      Latitude           Longitude          Place    Page  Year\n",
       "0   39.9153695         -77.5366551          Lakes   Page9  1803\n",
       "1        55.95             -3.3725      Edinburgh   Page9  1803\n",
       "2   42.2630415  -92.69269869999999       Counties   Page9  1803\n",
       "3     51.64875             -0.0974         London   Page9  1803\n",
       "4      41.5581            -90.5198         Cities   Page9  1803\n",
       "5     56.39153            -3.43951       Scotland   Page9  1803\n",
       "6   55.8666667               -4.25        Glasgow   Page9  1803\n",
       "7         56.4          -3.4333333          Perth   Page9  1803\n",
       "8   57.1333333                -2.1       Aberdeen   Page9  1803\n",
       "9    60.293386            5.218142         Bergen  Page11  1803\n",
       "10          54                  -4  Great britain  Page11  1803\n",
       "11        40.6  -73.89944439999999          Coast  Page11  1803\n",
       "12  38.8873341  -77.05553279999999       Scotland  Page11  1803\n",
       "13  40.9477778  -72.42277780000001      North sea  Page11  1803\n",
       "14     34.4411           -119.8199  Western coast  Page11  1803"
      ]
     },
     "execution_count": 17,
     "metadata": {},
     "output_type": "execute_result"
    }
   ],
   "source": [
    "df_capitalized= df2.copy()\n",
    "df_capitalized['Place']=df2['Place'].apply(str.capitalize)\n",
    "#displaying just the first 15 rows\n",
    "df_capitalized.head(15)"
   ]
  },
  {
   "cell_type": "code",
   "execution_count": 19,
   "metadata": {},
   "outputs": [
    {
     "name": "stdout",
     "output_type": "stream",
     "text": [
      "Latitude     12503\n",
      "Longitude    12503\n",
      "count        12503\n",
      "dtype: int64\n"
     ]
    },
    {
     "data": {
      "text/html": [
       "<div>\n",
       "<style scoped>\n",
       "    .dataframe tbody tr th:only-of-type {\n",
       "        vertical-align: middle;\n",
       "    }\n",
       "\n",
       "    .dataframe tbody tr th {\n",
       "        vertical-align: top;\n",
       "    }\n",
       "\n",
       "    .dataframe thead th {\n",
       "        text-align: right;\n",
       "    }\n",
       "</style>\n",
       "<table border=\"1\" class=\"dataframe\">\n",
       "  <thead>\n",
       "    <tr style=\"text-align: right;\">\n",
       "      <th></th>\n",
       "      <th>Latitude</th>\n",
       "      <th>Longitude</th>\n",
       "      <th>count</th>\n",
       "    </tr>\n",
       "  </thead>\n",
       "  <tbody>\n",
       "    <tr>\n",
       "      <th>9440</th>\n",
       "      <td>55.8666667</td>\n",
       "      <td>-4.25</td>\n",
       "      <td>3219</td>\n",
       "    </tr>\n",
       "    <tr>\n",
       "      <th>9674</th>\n",
       "      <td>55.95</td>\n",
       "      <td>-3.3725</td>\n",
       "      <td>2870</td>\n",
       "    </tr>\n",
       "    <tr>\n",
       "      <th>10444</th>\n",
       "      <td>56.5</td>\n",
       "      <td>-4</td>\n",
       "      <td>2801</td>\n",
       "    </tr>\n",
       "    <tr>\n",
       "      <th>9798</th>\n",
       "      <td>56</td>\n",
       "      <td>-4</td>\n",
       "      <td>2447</td>\n",
       "    </tr>\n",
       "    <tr>\n",
       "      <th>11035</th>\n",
       "      <td>57.1666667</td>\n",
       "      <td>-2.6666667</td>\n",
       "      <td>1819</td>\n",
       "    </tr>\n",
       "    <tr>\n",
       "      <th>9437</th>\n",
       "      <td>55.8666667</td>\n",
       "      <td>-3.9166667</td>\n",
       "      <td>1635</td>\n",
       "    </tr>\n",
       "    <tr>\n",
       "      <th>10302</th>\n",
       "      <td>56.39153</td>\n",
       "      <td>-3.43951</td>\n",
       "      <td>1579</td>\n",
       "    </tr>\n",
       "    <tr>\n",
       "      <th>11085</th>\n",
       "      <td>57.20194</td>\n",
       "      <td>-2.19778</td>\n",
       "      <td>1526</td>\n",
       "    </tr>\n",
       "    <tr>\n",
       "      <th>10131</th>\n",
       "      <td>56.25</td>\n",
       "      <td>-3.1666667</td>\n",
       "      <td>1476</td>\n",
       "    </tr>\n",
       "    <tr>\n",
       "      <th>178</th>\n",
       "      <td>-23.5166667</td>\n",
       "      <td>27.8333333</td>\n",
       "      <td>1448</td>\n",
       "    </tr>\n",
       "    <tr>\n",
       "      <th>9468</th>\n",
       "      <td>55.87194</td>\n",
       "      <td>-4.43306</td>\n",
       "      <td>1438</td>\n",
       "    </tr>\n",
       "    <tr>\n",
       "      <th>10964</th>\n",
       "      <td>57.0833333</td>\n",
       "      <td>-4.6666667</td>\n",
       "      <td>1407</td>\n",
       "    </tr>\n",
       "    <tr>\n",
       "      <th>9665</th>\n",
       "      <td>55.9497284685701</td>\n",
       "      <td>-3.19333076477051</td>\n",
       "      <td>1223</td>\n",
       "    </tr>\n",
       "    <tr>\n",
       "      <th>9977</th>\n",
       "      <td>56.1166667</td>\n",
       "      <td>-3.95</td>\n",
       "      <td>1208</td>\n",
       "    </tr>\n",
       "    <tr>\n",
       "      <th>9672</th>\n",
       "      <td>55.95</td>\n",
       "      <td>-3.2</td>\n",
       "      <td>1177</td>\n",
       "    </tr>\n",
       "  </tbody>\n",
       "</table>\n",
       "</div>"
      ],
      "text/plain": [
       "               Latitude          Longitude  count\n",
       "9440         55.8666667              -4.25   3219\n",
       "9674              55.95            -3.3725   2870\n",
       "10444              56.5                 -4   2801\n",
       "9798                 56                 -4   2447\n",
       "11035        57.1666667         -2.6666667   1819\n",
       "9437         55.8666667         -3.9166667   1635\n",
       "10302          56.39153           -3.43951   1579\n",
       "11085          57.20194           -2.19778   1526\n",
       "10131             56.25         -3.1666667   1476\n",
       "178         -23.5166667         27.8333333   1448\n",
       "9468           55.87194           -4.43306   1438\n",
       "10964        57.0833333         -4.6666667   1407\n",
       "9665   55.9497284685701  -3.19333076477051   1223\n",
       "9977         56.1166667              -3.95   1208\n",
       "9672              55.95               -3.2   1177"
      ]
     },
     "execution_count": 19,
     "metadata": {},
     "output_type": "execute_result"
    }
   ],
   "source": [
    "df_max_geolocations = df_capitalized[['Latitude','Longitude']].groupby(['Latitude', 'Longitude'])['Longitude'] \\\n",
    "                             .count() \\\n",
    "                             .reset_index(name='count') \\\n",
    "                             .sort_values(['count'], ascending=False)   \n",
    "\n",
    "print(df_max_geolocations.count())\n",
    "#displaying just the first 15 rows\n",
    "df_max_geolocations.head(15)\n"
   ]
  },
  {
   "cell_type": "code",
   "execution_count": 23,
   "metadata": {},
   "outputs": [
    {
     "name": "stdout",
     "output_type": "stream",
     "text": [
      "0 3219 Glasgow\n",
      "1 2870 Edinburgh\n",
      "2 2801 Perthshire\n",
      "3 2447 Scotland\n",
      "4 1819 Aberdeenshire\n",
      "5 1635 Lanarkshire\n",
      "6 1579 Scotland\n",
      "7 1526 Aberdeen\n",
      "8 1476 Fife\n",
      "9 1448 Forfarshire\n",
      "10 1438 Glasgow\n",
      "11 1407 Inverness\n",
      "12 1223 Edinburgh\n",
      "13 1208 Stirling\n",
      "14 1177 Edinburgh\n",
      "15 1144 Ayr\n",
      "16 1128 Perth\n",
      "17 1073 Glasgow\n",
      "18 1010 Dundee\n",
      "19 965 Argyllshire\n"
     ]
    }
   ],
   "source": [
    "#Getting the 15 places (and their frequencies) most mentioned\n",
    "filter_list=[]\n",
    "place_label, place_freq = label_freq_places(df_capitalized, df_max_geolocations, filter_list)"
   ]
  },
  {
   "cell_type": "code",
   "execution_count": 24,
   "metadata": {},
   "outputs": [
    {
     "data": {
      "text/html": [
       "<div>\n",
       "<style scoped>\n",
       "    .dataframe tbody tr th:only-of-type {\n",
       "        vertical-align: middle;\n",
       "    }\n",
       "\n",
       "    .dataframe tbody tr th {\n",
       "        vertical-align: top;\n",
       "    }\n",
       "\n",
       "    .dataframe thead th {\n",
       "        text-align: right;\n",
       "    }\n",
       "</style>\n",
       "<table border=\"1\" class=\"dataframe\">\n",
       "  <thead>\n",
       "    <tr style=\"text-align: right;\">\n",
       "      <th></th>\n",
       "      <th>Place</th>\n",
       "      <th>count</th>\n",
       "    </tr>\n",
       "  </thead>\n",
       "  <tbody>\n",
       "    <tr>\n",
       "      <th>8</th>\n",
       "      <td>Glasgow</td>\n",
       "      <td>5730</td>\n",
       "    </tr>\n",
       "    <tr>\n",
       "      <th>5</th>\n",
       "      <td>Edinburgh</td>\n",
       "      <td>5270</td>\n",
       "    </tr>\n",
       "    <tr>\n",
       "      <th>13</th>\n",
       "      <td>Scotland</td>\n",
       "      <td>4026</td>\n",
       "    </tr>\n",
       "    <tr>\n",
       "      <th>12</th>\n",
       "      <td>Perthshire</td>\n",
       "      <td>2801</td>\n",
       "    </tr>\n",
       "    <tr>\n",
       "      <th>1</th>\n",
       "      <td>Aberdeenshire</td>\n",
       "      <td>1819</td>\n",
       "    </tr>\n",
       "    <tr>\n",
       "      <th>10</th>\n",
       "      <td>Lanarkshire</td>\n",
       "      <td>1635</td>\n",
       "    </tr>\n",
       "    <tr>\n",
       "      <th>0</th>\n",
       "      <td>Aberdeen</td>\n",
       "      <td>1526</td>\n",
       "    </tr>\n",
       "    <tr>\n",
       "      <th>6</th>\n",
       "      <td>Fife</td>\n",
       "      <td>1476</td>\n",
       "    </tr>\n",
       "    <tr>\n",
       "      <th>7</th>\n",
       "      <td>Forfarshire</td>\n",
       "      <td>1448</td>\n",
       "    </tr>\n",
       "    <tr>\n",
       "      <th>9</th>\n",
       "      <td>Inverness</td>\n",
       "      <td>1407</td>\n",
       "    </tr>\n",
       "    <tr>\n",
       "      <th>14</th>\n",
       "      <td>Stirling</td>\n",
       "      <td>1208</td>\n",
       "    </tr>\n",
       "    <tr>\n",
       "      <th>3</th>\n",
       "      <td>Ayr</td>\n",
       "      <td>1144</td>\n",
       "    </tr>\n",
       "    <tr>\n",
       "      <th>11</th>\n",
       "      <td>Perth</td>\n",
       "      <td>1128</td>\n",
       "    </tr>\n",
       "    <tr>\n",
       "      <th>4</th>\n",
       "      <td>Dundee</td>\n",
       "      <td>1010</td>\n",
       "    </tr>\n",
       "    <tr>\n",
       "      <th>2</th>\n",
       "      <td>Argyllshire</td>\n",
       "      <td>965</td>\n",
       "    </tr>\n",
       "  </tbody>\n",
       "</table>\n",
       "</div>"
      ],
      "text/plain": [
       "            Place  count\n",
       "8         Glasgow   5730\n",
       "5       Edinburgh   5270\n",
       "13       Scotland   4026\n",
       "12     Perthshire   2801\n",
       "1   Aberdeenshire   1819\n",
       "10    Lanarkshire   1635\n",
       "0        Aberdeen   1526\n",
       "6            Fife   1476\n",
       "7     Forfarshire   1448\n",
       "9       Inverness   1407\n",
       "14       Stirling   1208\n",
       "3             Ayr   1144\n",
       "11          Perth   1128\n",
       "4          Dundee   1010\n",
       "2     Argyllshire    965"
      ]
     },
     "execution_count": 24,
     "metadata": {},
     "output_type": "execute_result"
    }
   ],
   "source": [
    "#Visualizing the 15 places in a Bar plot\n",
    "df_places = {'Place':place_label,'Place_freq':place_freq}\n",
    "df_places_freq = pd.DataFrame(df_places)\n",
    "df_group_places = df_places_freq.groupby(['Place'])['Place_freq'].sum()\\\n",
    "                             .reset_index(name='count') \\\n",
    "                             .sort_values(['count'], ascending=False)   \n",
    "\n",
    "df_group_places"
   ]
  },
  {
   "cell_type": "code",
   "execution_count": 25,
   "metadata": {},
   "outputs": [
    {
     "data": {
      "image/png": "[encoded data removed]",
      "text/plain": [
       "<Figure size 1800x1200 with 1 Axes>"
      ]
     },
     "metadata": {
      "needs_background": "light"
     },
     "output_type": "display_data"
    }
   ],
   "source": [
    "mpl.rcParams['figure.dpi']=300\n",
    "plot_bar_places(df_group_places, plot_type='resolved')"
   ]
  },
  {
   "cell_type": "code",
   "execution_count": null,
   "metadata": {},
   "outputs": [],
   "source": []
  }
 ],
 "metadata": {
  "kernelspec": {
   "display_name": "Python 3",
   "language": "python",
   "name": "python3"
  },
  "language_info": {
   "codemirror_mode": {
    "name": "ipython",
    "version": 3
   },
   "file_extension": ".py",
   "mimetype": "text/x-python",
   "name": "python",
   "nbconvert_exporter": "python",
   "pygments_lexer": "ipython3",
   "version": "3.5.5"
  }
 },
 "nbformat": 4,
 "nbformat_minor": 2
}
